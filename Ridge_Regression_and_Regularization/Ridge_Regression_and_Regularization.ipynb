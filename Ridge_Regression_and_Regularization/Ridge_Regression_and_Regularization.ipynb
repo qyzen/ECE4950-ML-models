{
 "cells": [
  {
   "cell_type": "markdown",
   "metadata": {},
   "source": [
    "# ECE 4950 Assignment 4\n",
    "\n",
    "## Problem 4 (Linear Regression and Regularization)\n",
    "\n",
    "### <font color='red'> You can either write your own code or use python package SKLearn in this assignment, other packages for linear regression are not allowed </font>\n",
    "\n",
    "In this assignment, we use the Concrete Compressive Strength Dataset (https://archive.ics.uci.edu/ml/datasets/Concrete+Compressive+Strength) from UCI machine learning repository. We will explore how to use linear regression to predict the concrete compressive strength given the proportion of different materials you use to make high-performance concrete.\n",
    "Typical instances of this dataset looks like the following:\n",
    "\n",
    "|Cement kg/m^3| Blast Furnace Slag kg/m^3 |Fly Ash kg/m^3| Water kg/m^3|Superplasticizer kg/m^3|Coarse Aggregate  kg/m^3| Fine Aggregate kg/m^3|Age day|  Concrete compressive strength MPa|\n",
    "|:------ :|:------:|:------:|:------:|:------:|:------:|:------:|:------:|:------:|\n",
    "| 540.0 | 0.0  |0.0    |162.0 |2.5 \t |1040.0| 676.0|28 \t  |79.99 |\n",
    "|540.0 \t|0.0 |\t0.0 |\t162.0 |\t2.5 \t|1055.0 |\t676.0 |\t28 |61.89| \n",
    "|266.0 \t|114.0 |\t0.0 |\t228.0 |\t0.0 |\t932.0 |\t670.0 \t|28 |\t45.85| "
   ]
  },
  {
   "cell_type": "markdown",
   "metadata": {},
   "source": [
    "### Data Splitting\n",
    "We randomly split the dataset into two parts, the training set and the test set. The training set consists of 430 data points and the test set consists of 600 data points. Generally, the training dataset is larger than the test dataset. However, in this assignment, we make the training set to be smaller in order to highlight the influence of regularization. (Think about why regularization is more important when you have a smaller training set.) \n",
    "Using the following lines, we load all the training data into a numpy array $train$ and all the testing data into a numpy array $test$."
   ]
  },
  {
   "cell_type": "code",
   "execution_count": 1,
   "metadata": {
    "scrolled": false
   },
   "outputs": [],
   "source": [
    "import numpy as np\n",
    "import pandas\n",
    "Trainfile = pandas.read_excel('Train.xlsx')\n",
    "Testfile = pandas.read_excel('Test.xlsx')\n",
    "train = Trainfile.values\n",
    "test = Testfile.values\n",
    "#Trainfile #output all the training samples in a table"
   ]
  },
  {
   "cell_type": "markdown",
   "metadata": {},
   "source": [
    "\n",
    "The training inputs are stored in array $X_{trn}$, where $X_{trn}[i][j]$ represents the $j$th attribute of the $i$th instance in the training set. The training outputs are stored in array $y_{trn}$, where $y_{trn}[i]$ is the output of the $i$th instance in the training test.\n",
    "Similarly we store the inputs and outputs of the test set in $X_{tst}$ and $y_{tst}$"
   ]
  },
  {
   "cell_type": "code",
   "execution_count": 2,
   "metadata": {},
   "outputs": [],
   "source": [
    "X_trn_raw, y_trn = train[:,:-1], train[:,-1:]\n",
    "X_tst_raw, y_tst = test[:,:-1], test[:,-1:]"
   ]
  },
  {
   "cell_type": "markdown",
   "metadata": {},
   "source": [
    "### Data Preprocessing\n",
    "In order to better use linear regression, we shift normalize all the attributes of training input and testing input to make each attribute zero mean and norm no larger than 1. We are not normailizing the output. (Think about why.)\n",
    "After that, we append a bias attribute 1 to each of the input feartures."
   ]
  },
  {
   "cell_type": "code",
   "execution_count": 3,
   "metadata": {},
   "outputs": [],
   "source": [
    "inputs = np.concatenate((X_trn_raw, X_tst_raw),axis = 0)\n",
    "inputs = inputs - np.mean(inputs,axis=0) #shift\n",
    "inputs = inputs/(np.max(inputs,axis=0)) #normalize\n",
    "inputs = np.concatenate((inputs, np.ones((X_trn_raw.shape[0]+X_tst_raw.shape[0],1))), axis = 1) #add bias\n",
    "X_trn = inputs[:X_trn_raw.shape[0],:]\n",
    "X_tst = inputs[X_trn_raw.shape[0]:,:]"
   ]
  },
  {
   "cell_type": "markdown",
   "metadata": {},
   "source": [
    "### Let's get started\n",
    "We do recommend you to understand the aforementioned steps since data preprocessing is a very important skill for a machine learning engineer. However, if you don't understand the previous pre-processing steps, it's totally fine. Now let's see what we get:\n",
    "1. Training set $[X_{trn}, Y_{trn}]$, where all the input attributes are zero-mean and normalized. At the end of all the training inputs, there is a bias term $1$ at the end.\n",
    "2. Testing set $[X_{tst}, Y_{tst}]$ which has the same property as the training set."
   ]
  },
  {
   "cell_type": "markdown",
   "metadata": {},
   "source": [
    "### (1) Linear regression (without regularization)\n",
    "Let's look at the first task. You can either use functions in Sklearn or write your own code to train a linear regressor on the training set.\n",
    "The goal here is to find the $w$ which minimizes the training loss\n",
    "\\begin{equation}\n",
    "    w^* = \\arg \\min_w \\frac1{|S_{trn}|}\\sum_{i \\in S_{trn}}(w\\cdot x_i - y_i)^2\n",
    "\\end{equation}\n",
    "Output the squre root of your average training loss and average test loss\n",
    "\\begin{equation}\n",
    "    l_{trn} = \\sqrt{\\frac1{|S_{trn}|}\\sum_{i \\in S_{trn}} ( w^*\\cdot x_i - y_i)^2} \\text{, }l_{tst} = \\sqrt{\\frac1{|S_{tst}|}\\sum_{i \\in S_{tst}} (w^* \\cdot x_i - y_i)^2}\n",
    "\\end{equation}"
   ]
  },
  {
   "cell_type": "code",
   "execution_count": 4,
   "metadata": {},
   "outputs": [
    {
     "name": "stdout",
     "output_type": "stream",
     "text": [
      "The average training loss is:  9.727779122009025\n",
      "The average test loss is:  10.904551016681253\n"
     ]
    }
   ],
   "source": [
    "# PART 1: Simple Linear Regression\n",
    "# store your training loss in l_trn and testing loss in l_tst\n",
    "#edit within this range\n",
    "\n",
    "#FILL IN CODE HERE\n",
    "import numpy as np\n",
    "import math\n",
    "from sklearn.linear_model import LinearRegression\n",
    "reg = LinearRegression().fit(X_trn, y_trn)\n",
    "y_trn_1=y_trn-reg.predict(X_trn)\n",
    "y_tst_2=y_tst-reg.predict(X_tst)\n",
    "l_trn = math.sqrt(((y_trn_1)**2).sum()/len(X_trn))\n",
    "l_tst = math.sqrt(((y_tst_2)**2).sum()/len(X_tst))\n",
    "                  \n",
    "#end edit                 \n",
    "print('The average training loss is: ', l_trn)\n",
    "print('The average test loss is: ', l_tst)"
   ]
  },
  {
   "cell_type": "markdown",
   "metadata": {},
   "source": [
    "### (2) Linear Ridge regression\n",
    "\n",
    "You may observe that training error is smaller than the test error. This is because we are overfitting to the training data. Regularization is a good way to avoid overfitting. Recall that $\\lambda$- Ridge regression is to add an additional $\\ell_2$-norm of the weight vector to refine the obejective function:\n",
    "\n",
    "\\begin{equation}\n",
    "    w^\\lambda = \\arg \\min_w \\frac1{|S_{trn}|}\\sum_{i \\in S_{trn}}(w \\cdot x_i - y_i)^2 + \\lambda|w|^2\n",
    "\\end{equation}\n",
    "\n",
    "Try Ridge regression on the same dataset (the dataset with more attributes) under $\\lambda = 0.001 \\times (1.2)^i, i = 0,1,2,3,...,99$. Plot the training loss and test loss under different regression parameter and answer the flowing questions:\n",
    "1. Describe the trend of training error? (Increase w.r.t $\\lambda$, decrese w.r.t $\\lambda$, remain constant, first increase then decrease or first decrease then increase). Try to explain.\n",
    "\n",
    "2. Describe the trend of testing error? (Increase w.r.t $\\lambda$, decrese w.r.t $\\lambda$, remain constant, first increase then decrease or first decrease then increase). Try to explain\n",
    "\n",
    "Training and testing error are defined without the regularization term:\n",
    "\\begin{equation}\n",
    "    l_{trn}^\\lambda = \\sqrt{\\frac1{|S_{trn}|}\\sum_{i \\in S_{trn}} (w^\\lambda \\cdot x_i - y_i)^2} \\text{, }l_{tst}^\\lambda = \\sqrt{\\frac1{|S_{tst}|}\\sum_{i \\in S_{tst}} (w^\\lambda \\cdot x_i - y_i)^2}\n",
    "\\end{equation}"
   ]
  },
  {
   "cell_type": "code",
   "execution_count": 5,
   "metadata": {},
   "outputs": [
    {
     "data": {
      "image/png": "[encoded data removed]",
      "text/plain": [
       "<Figure size 432x288 with 1 Axes>"
      ]
     },
     "metadata": {
      "needs_background": "light"
     },
     "output_type": "display_data"
    },
    {
     "data": {
      "image/png": "[encoded data removed]",
      "text/plain": [
       "<Figure size 432x288 with 1 Axes>"
      ]
     },
     "metadata": {
      "needs_background": "light"
     },
     "output_type": "display_data"
    }
   ],
   "source": [
    "# PART 2: Linear Ridge Regression\n",
    "\n",
    "# In this part, you will perform linear Ridge Regression. \n",
    "# You will plot the training and test error as a function of lambda\n",
    "\n",
    "import matplotlib.pyplot as plt\n",
    "%matplotlib inline\n",
    "lamb = []\n",
    "points = 100\n",
    "for i in range(points):  \n",
    "    lamb.append(0.001*(1.2**i))\n",
    "    #= 0.001 * [1, 1.2, 1.44, ..., 1.2^99] #lambda values #lambda values\n",
    "err_trn = [] # store your training error in this vector\n",
    "err_tst = [] # store your testing error in this vector\n",
    "#edit within this range\n",
    "\n",
    "#FILL IN CODE HERE\n",
    "from sklearn.linear_model import Ridge\n",
    "import numpy as np\n",
    "import math\n",
    "for i in range (points):\n",
    "    reg = Ridge(alpha=lamb[i]).fit(X_trn, y_trn)\n",
    "    y_trn_1=y_trn-reg.predict(X_trn)\n",
    "    y_tst_2=y_tst-reg.predict(X_tst)\n",
    "    err_trn.append(math.sqrt(((y_trn_1)**2).sum()/len(X_trn)))\n",
    "    err_tst.append(math.sqrt(((y_tst_2)**2).sum()/len(X_tst)))\n",
    "\n",
    "\n",
    "#end edit\n",
    "plt.semilogx(lamb,err_trn,color='red')\n",
    "plt.semilogx(lamb,err_tst,color='blue')\n",
    "plt.title(\"L2 error\")\n",
    "plt.show()\n",
    "plt.semilogx(lamb[1:40],err_trn[1:40],color='red')\n",
    "plt.semilogx(lamb[1:40],err_tst[1:40],color='blue')\n",
    "plt.title(\"L2 error\")\n",
    "plt.show()"
   ]
  },
  {
   "cell_type": "markdown",
   "metadata": {},
   "source": [
    "1.From the figure above, we can conclude that with the decreasing of 𝜆, the training errors are first decreasing greatly, when 𝜆 continuousely decrease, the training error then basically remain unchanged. This is because when 𝜆 is big, the model is too simple to predict the training data, thus we underfits the data, which means that the model didn't learn enough about the training data to make a good prediction, so it has a big training error. When 𝜆 went small, the model will be more complex, it learns better, so the training error decrease greatly. When 𝜆 continuously went smaller, the testing error basically remain unchanged. This is because the model learnt good enough with the training data given.\n",
    "\n",
    "2.From the figure above, we can conclude that with the decreasing of 𝜆, the testing errors are first decreasing greatly, when 𝜆 is continuouly decrease, the testing error then went slightly bigger. This is because when 𝜆 is big, the model is too simple to predict the testing data, thus we underfits the data, which means that the model didn't learn enough about the training data to make a good prediction, so it has a big testing error. When 𝜆 went small, the model will be more complex, it learns better, so the testing error decrease greatly. But when 𝜆 continuously went smaller, it may have the risk of overfitting. We can see in the graph that testing error go slightly bigger. This is because the model learnt too much, so it captures the noise of the data, which made the model not as good as before."
   ]
  },
  {
   "cell_type": "markdown",
   "metadata": {},
   "source": [
    "###  Add more attributes\n",
    "\n",
    "Can we do more beyond simple linear regression? Since the relationship between each attribute and the final output may not necessarily be linear, we may do better if we add some non-linearity. We can add the square of each attribute to our training input and do linear regression on the new set of attributes.\n",
    "\n",
    "Remark: This is called polynomial regression, please google it if you are interested."
   ]
  },
  {
   "cell_type": "code",
   "execution_count": 6,
   "metadata": {},
   "outputs": [],
   "source": [
    "inputs = np.concatenate((X_trn_raw, X_tst_raw),axis = 0)\n",
    "inputs_new = np.concatenate((inputs,np.square(inputs)),axis=1) #add square term\n",
    "inputs_new = inputs_new - np.mean(inputs_new,axis=0) #shift\n",
    "inputs_new = inputs_new/(np.max(inputs_new,axis=0)) #normalize\n",
    "inputs_new = np.concatenate((inputs_new, np.ones((X_trn_raw.shape[0]+X_tst_raw.shape[0],1))), axis = 1) # add bias\n",
    "X_trn_new = inputs_new[:X_trn_raw.shape[0],:]\n",
    "X_tst_new = inputs_new[X_trn_raw.shape[0]:,:]"
   ]
  },
  {
   "cell_type": "markdown",
   "metadata": {},
   "source": [
    "### (3) Quadratic regression (without regularization)\n",
    "Recall now we have $X^{new}_{trn}$ as our new training features and $X^{new}_{tst}$ as our new test features. \n",
    "\\begin{equation}\n",
    "    x^{new}_i = (x_i[1],x_i[2], ..., x_i[d], x_i[1]^2,x_i[2]^2, ..., x_i[d]^2 )\n",
    "\\end{equation}\n",
    "Do the same thing as in Problem (1). Find the minimizer of the training error:\n",
    "\\begin{equation}\n",
    "    w^* = \\arg \\min_w \\frac1{|S_{trn}|}\\sum_{i \\in S_{trn}}(w \\cdot x^{new}_i - y_i)^2\n",
    "\\end{equation}\n",
    "Output the squre root of your average training loss and average test loss\n",
    "\\begin{equation}\n",
    "    l_{trn} = \\sqrt{\\frac1{|S_{trn}|}\\sum_{i \\in S_{trn}} (w^* \\cdot x^{new}_i - y_i)^2} \\text{, }l_{tst} = \\sqrt{\\frac1{|S_{tst}|}\\sum_{i \\in S_{tst}} (w^*\\cdot x^{new}_i - y_i)^2}\n",
    "\\end{equation}"
   ]
  },
  {
   "cell_type": "code",
   "execution_count": 7,
   "metadata": {},
   "outputs": [
    {
     "name": "stdout",
     "output_type": "stream",
     "text": [
      "The average training loss is:  7.481820649524704\n",
      "The average test loss is:  8.871400924312628\n"
     ]
    }
   ],
   "source": [
    "#PART 3: Quatratic Regression\n",
    "\n",
    "# store your training loss in l_trn and testing loss in l_tst\n",
    "#edit within this range\n",
    "\n",
    "#FILL IN CODE HERE\n",
    "import numpy as np\n",
    "import math\n",
    "from sklearn.linear_model import LinearRegression\n",
    "reg = LinearRegression().fit(X_trn_new, y_trn)\n",
    "y_trn_1=y_trn-reg.predict(X_trn_new)\n",
    "y_tst_2=y_tst-reg.predict(X_tst_new)\n",
    "l_trn=(math.sqrt(((y_trn_1)**2).sum()/len(X_trn_new)))\n",
    "l_tst=(math.sqrt(((y_tst_2)**2).sum()/len(X_tst_new)))\n",
    "\n",
    "#end edit\n",
    "print('The average training loss is: ', l_trn)\n",
    "print('The average test loss is: ', l_tst)"
   ]
  },
  {
   "cell_type": "markdown",
   "metadata": {},
   "source": [
    "### (4) Quadratic Ridge regression\n",
    "\n",
    "In this problem, we do the same regularization as in Problem (2) to our new dataset:\n",
    "\n",
    "Recall that $\\lambda$- Ridge regression is to add an additional $\\ell_2$-norm of the weight vector to refine the obejective function:\n",
    "\n",
    "\\begin{equation}\n",
    "    w^\\lambda = \\arg \\min_w \\frac1{|S_{trn}|}\\sum_{i \\in S_{trn}}(w\\cdot x^{new}_i - y_i)^2 + \\lambda|w|^2\n",
    "\\end{equation}\n",
    "\n",
    "Try Ridge regression on the new dataset (the dataset with more attributes) under $\\lambda = 0.001 \\times (1.2)^i, i = 0,1,2,3,...,99$. Plot the training loss and test loss under different regression parameter and answer the flowing questions:\n",
    "1. Describe the trend of training error? (Increase w.r.t $\\lambda$, decrese w.r.t $\\lambda$, remain constant, first increase then decrease or first decrease then increase). Try to explain.\n",
    "\n",
    "2. Describe the trend of testing error? (Increase w.r.t $\\lambda$, decrese w.r.t $\\lambda$, remain constant, first increase then decrease or first decrease then increase). Try to explain\n",
    "\n",
    "Training and testing error are defined without the regularization term:\n",
    "\\begin{equation}\n",
    "    l_{trn}^\\lambda = \\sqrt{\\frac1{|S_{trn}|}\\sum_{i \\in S_{trn}} (w^\\lambda\\cdot x^{new}_i - y_i)^2} \\text{, }l_{tst}^\\lambda = \\sqrt{\\frac1{|S_{tst}|}\\sum_{i \\in S_{tst}} (w^\\lambda\\cdot x^{new}_i - y_i)^2}\n",
    "\\end{equation}"
   ]
  },
  {
   "cell_type": "code",
   "execution_count": 8,
   "metadata": {},
   "outputs": [
    {
     "data": {
      "image/png": "[encoded data removed]",
      "text/plain": [
       "<Figure size 432x288 with 1 Axes>"
      ]
     },
     "metadata": {
      "needs_background": "light"
     },
     "output_type": "display_data"
    },
    {
     "data": {
      "image/png": "[encoded data removed]",
      "text/plain": [
       "<Figure size 432x288 with 1 Axes>"
      ]
     },
     "metadata": {
      "needs_background": "light"
     },
     "output_type": "display_data"
    }
   ],
   "source": [
    "# PART 4: Quadratic Ridge Regression\n",
    "\n",
    "# In this part, you will perform Ridge Regression. \n",
    "# You will plot the training and test error as a function of lambda\n",
    "\n",
    "import matplotlib.pyplot as plt\n",
    "%matplotlib inline\n",
    "lamb = []\n",
    "points = 100\n",
    "for i in range(points):  \n",
    "    lamb.append(0.001*(1.2**i))\n",
    "    #= 0.001 * [1, 1.2, 1.44, ..., 1.2^99] #lambda values\n",
    "err_trn = [] # store your training error in this vector\n",
    "err_tst = [] # store your testing error in this vector\n",
    "#edit within this range\n",
    "\n",
    "\n",
    "# PLEASE FILL IN THE CODE HERE.\n",
    "from sklearn.linear_model import Ridge\n",
    "import numpy as np\n",
    "import math\n",
    "for i in range (points):\n",
    "    reg = Ridge(alpha=lamb[i]).fit(X_trn_new, y_trn)\n",
    "    y_trn_1=y_trn-reg.predict(X_trn_new)\n",
    "    y_tst_2=y_tst-reg.predict(X_tst_new)\n",
    "    err_trn.append(math.sqrt(((y_trn_1)**2).sum()/len(X_trn_new)))\n",
    "    err_tst.append(math.sqrt(((y_tst_2)**2).sum()/len(X_tst_new)))\n",
    "\n",
    "\n",
    "#end edit\n",
    "plt.semilogx(lamb,err_trn,color='red')\n",
    "plt.semilogx(lamb,err_tst,color='blue')\n",
    "plt.title(\"L2 error\")\n",
    "plt.show()\n",
    "plt.semilogx(lamb[1:40],err_trn[1:40],color='red')\n",
    "plt.semilogx(lamb[1:40],err_tst[1:40],color='blue')\n",
    "plt.title(\"L2 error\")\n",
    "plt.show()"
   ]
  },
  {
   "cell_type": "markdown",
   "metadata": {},
   "source": [
    "1.From the figure above, we can conclude that with the decreasing of 𝜆, the training errors are first decreasing greatly, when 𝜆 continuousely decrease, the training error then decrease slowly, even remain unchanged. This is because when 𝜆 is big, the model is too simple to predict the training data, thus we underfits the data, which means that the model didn't learn enough about the training data to make a good prediction, so it has a big training error. When 𝜆 went small, the model will be more complex, it learns better, so the training error decrease greatly. When 𝜆 continuously went smaller, the testing error decrease slowly, even remain unchanged. This is because the model learnt good enough with the training data given.\n",
    "\n",
    "2.From the figure above, we can conclude that with the decreasing of 𝜆, the testing errors are first decreasing greatly, when 𝜆 is continuouly decrease, the testing error then increase. This is because when 𝜆 is big, the model is too simple to predict the testing data, thus we underfits the data, which means that the model didn't learn enough about the training data to make a good prediction, so it has a big testing error. When 𝜆 went small, the model will be more complex, it learns better, so the testing error decrease greatly. But when 𝜆 continuously went smaller, it has the risk of overfitting. We can see in the graph that testing error obviously increased. This is because the model learnt too much, so it captures the noise of the data, which made the model not as good as before."
   ]
  },
  {
   "cell_type": "markdown",
   "metadata": {},
   "source": [
    "### (5) Discussion\n",
    "Compare the plots of Linear Regression and Quadratic Regression"
   ]
  },
  {
   "cell_type": "markdown",
   "metadata": {
    "collapsed": true
   },
   "source": [
    "It is clear that with Quadratic Regression, both training loss and testing loss are smaller than Linear Regression when without regularization. Compare the plots of Linear Regression and Quadratic Regression, we can see that, when 𝜆 is smaller than a certain value and continously becoming smaller, the testing error in the Quadric Regression are increasing far more obvious than in Linear regression. And for training error, the \"remain unchanged\" point in Quadric Regression has a smaller 𝜆 value than that in Linear Regression."
   ]
  }
 ],
 "metadata": {
  "kernelspec": {
   "display_name": "Python 3",
   "language": "python",
   "name": "python3"
  },
  "language_info": {
   "codemirror_mode": {
    "name": "ipython",
    "version": 3
   },
   "file_extension": ".py",
   "mimetype": "text/x-python",
   "name": "python",
   "nbconvert_exporter": "python",
   "pygments_lexer": "ipython3",
   "version": "3.7.1"
  }
 },
 "nbformat": 4,
 "nbformat_minor": 2
}
